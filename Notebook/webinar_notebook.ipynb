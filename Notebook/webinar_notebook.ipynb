{
  "nbformat": 4,
  "nbformat_minor": 0,
  "metadata": {
    "colab": {
      "name": "webinar-notebook.ipynb",
      "provenance": []
    },
    "kernelspec": {
      "name": "python3",
      "display_name": "Python 3"
    }
  },
  "cells": [
    {
      "cell_type": "markdown",
      "metadata": {
        "id": "NzhvQc0Tax2u",
        "colab_type": "text"
      },
      "source": [
        "# FLOW 🔖\n",
        "\n",
        "This notebook walks through the various stages of the data science workflow. In particular, the notebook has the following sections:\n",
        "\n",
        "* Types of  Machine Learning Algorithms\n",
        "* Let's start to understand the Problem and Dataset\n",
        "* Exploratory Data Analysis (EDA) and Statistical Analysis\n",
        "* Prediction\n",
        "* Model Performance Analysis\n",
        "* Publish and deploy the model"
      ]
    },
    {
      "cell_type": "markdown",
      "metadata": {
        "id": "mgNSto7ReVxO",
        "colab_type": "text"
      },
      "source": [
        "## Types of  Machine Learning Algorithms\n",
        "\n",
        "* ### Supervised Learning & Unsupervised Learning\n",
        "\n",
        "![](https://www.researchgate.net/publication/329533120/figure/fig1/AS:702267594399761@1544445050584/Supervised-learning-and-unsupervised-learning-Supervised-learning-uses-annotation.png)\n",
        " \n",
        "\n",
        "* ### Semi-Supervised Learning\n",
        "\n",
        "![](https://miro.medium.com/max/3704/0*o25mtXbnTedxHvOD.png)\n",
        "\n",
        "* ### Reinforcement Learning\n",
        "\n",
        "![](https://i.vimeocdn.com/video/603457588.webp?mw=1000&mh=554&q=70)\n"
      ]
    },
    {
      "cell_type": "markdown",
      "metadata": {
        "id": "q0cqlnqujZU9",
        "colab_type": "text"
      },
      "source": [
        "## Supervised Learning\n",
        "\n",
        "### Binary Classification\n",
        "\n",
        "\n",
        "> Binary classification refers to those classification tasks that have two class labels.\n",
        "\n",
        "-  Popular Algorithms: \n",
        "    * Logistic Regression\n",
        "    * k-Nearest Neighbors\n",
        "    * Decision Trees\n",
        "    * Random Forests\n",
        "    * Support Vector Machine\n",
        "    * GBM\n",
        "    * Naive Bayes\n",
        "\n",
        "- Examples : \n",
        "    * Email spam detection (spam or not).\n",
        "    * Churn prediction (churn or not).\n",
        "    * Conversion prediction (buy or not).\n",
        "\n",
        "### Multi-Class Classification\n",
        "![](https://upload.wikimedia.org/wikipedia/commons/thumb/8/81/Portable_scanner_and_OCR_%28video%29.webm/1200px--Portable_scanner_and_OCR_%28video%29.webm.jpg)\n",
        "\n",
        "### Multi-Label Classification\n",
        "\n",
        "![](https://www.whats-on-netflix.com/wp-content/uploads/2019/05/netflix-category-codes-on-titles.png)\n",
        "###  Imbalanced Classification\n",
        "![](https://miro.medium.com/max/1000/0*_6WEDnZubsQfTMlY.png)\n"
      ]
    },
    {
      "cell_type": "markdown",
      "metadata": {
        "id": "Odh9by1YqR21",
        "colab_type": "text"
      },
      "source": [
        "### Classification Metrics\n",
        "\n",
        "* Accuracy \n",
        "* Logarithmic Loss\n",
        "* ROC, AUC\n",
        "* Confusion Matrix\n",
        "* Classification Report\n"
      ]
    },
    {
      "cell_type": "markdown",
      "metadata": {
        "id": "qucqwFgCt3fV",
        "colab_type": "text"
      },
      "source": [
        "## Define Problem\n",
        "\n",
        "### Pima Indians Diabetes Database\n",
        "\n",
        "#### Predict the onset of diabetes based on diagnostic measures\n",
        "This dataset is originally from the National Institute of Diabetes and Digestive and Kidney Diseases. The objective of the dataset is to diagnostically predict whether or not a patient has diabetes, based on certain diagnostic measurements included in the dataset. Several constraints were placed on the selection of these instances from a larger database. In particular, all patients here are females at least 21 years old of Pima Indian heritage."
      ]
    },
    {
      "cell_type": "markdown",
      "metadata": {
        "id": "gDTJZxuut48u",
        "colab_type": "text"
      },
      "source": [
        "    Attribute Information:\n",
        "        💊    Pregnancies\n",
        "        💊    Glucose\n",
        "        💊    BloodPressure\n",
        "        💊    SkinThickness\n",
        "        💊    Insulin\n",
        "        💊    BMI\n",
        "        💊    DiabetesPedigreeFunction\n",
        "        💊    Age\n",
        "        💊    Outcome"
      ]
    },
    {
      "cell_type": "markdown",
      "metadata": {
        "id": "Fus2RvNVxNTN",
        "colab_type": "text"
      },
      "source": [
        "# Exploratory Data Analysis (EDA) and Statistical Analysis\n",
        "\n",
        "## Import Libraries"
      ]
    },
    {
      "cell_type": "code",
      "metadata": {
        "id": "7AXfBuXBaavk",
        "colab_type": "code",
        "colab": {}
      },
      "source": [
        "# Python libraries\n",
        "# Classic,data manipulation and linear algebra\n",
        "import pandas as pd\n",
        "import numpy as np\n",
        "\n",
        "# Plots\n",
        "import seaborn as sns\n",
        "import matplotlib.pyplot as plt\n",
        "\n",
        "# Data processing, metrics and modeling\n",
        "from sklearn import metrics\n",
        "from sklearn.ensemble import RandomForestClassifier\n",
        "from sklearn.linear_model import LogisticRegression\n",
        "from sklearn.model_selection import train_test_split, cross_val_score, cross_val_predict, StratifiedKFold\n",
        "\n",
        "# Data processing, metrics and modeling\n",
        "from sklearn.preprocessing import StandardScaler, LabelEncoder\n",
        "from sklearn.model_selection import GridSearchCV, cross_val_score, train_test_split, GridSearchCV, RandomizedSearchCV\n",
        "from sklearn.metrics import (precision_score, recall_score, \n",
        "                                            confusion_matrix,  roc_curve, precision_recall_curve, \n",
        "                                            accuracy_score, roc_auc_score, f1_score)\n",
        "\n",
        "\n",
        "import warnings\n",
        "warnings.filterwarnings('ignore')\n"
      ],
      "execution_count": 1,
      "outputs": []
    },
    {
      "cell_type": "markdown",
      "metadata": {
        "id": "B-E_XTXixRHO",
        "colab_type": "text"
      },
      "source": [
        "## Loading the dataset"
      ]
    },
    {
      "cell_type": "code",
      "metadata": {
        "id": "2TsuCotRxLpr",
        "colab_type": "code",
        "colab": {}
      },
      "source": [
        ""
      ],
      "execution_count": null,
      "outputs": []
    },
    {
      "cell_type": "markdown",
      "metadata": {
        "id": "cn5Jk3lLx1P_",
        "colab_type": "text"
      },
      "source": [
        "## Analyze Data:\n",
        "* Descriptive Statistics"
      ]
    },
    {
      "cell_type": "code",
      "metadata": {
        "id": "9ISywKclx2tP",
        "colab_type": "code",
        "colab": {}
      },
      "source": [
        ""
      ],
      "execution_count": null,
      "outputs": []
    },
    {
      "cell_type": "markdown",
      "metadata": {
        "id": "nlDIqPrjClso",
        "colab_type": "text"
      },
      "source": [
        "## Data Visualization Part"
      ]
    },
    {
      "cell_type": "code",
      "metadata": {
        "id": "ioVy27VtCndy",
        "colab_type": "code",
        "colab": {}
      },
      "source": [
        ""
      ],
      "execution_count": null,
      "outputs": []
    },
    {
      "cell_type": "markdown",
      "metadata": {
        "id": "y1uM9KopLBa5",
        "colab_type": "text"
      },
      "source": [
        "# Prediction"
      ]
    },
    {
      "cell_type": "code",
      "metadata": {
        "id": "Rj9bi7c_LCkm",
        "colab_type": "code",
        "colab": {}
      },
      "source": [
        ""
      ],
      "execution_count": null,
      "outputs": []
    },
    {
      "cell_type": "markdown",
      "metadata": {
        "id": "sD2rF4jjNq7t",
        "colab_type": "text"
      },
      "source": [
        "# Model Performance Analysis"
      ]
    },
    {
      "cell_type": "code",
      "metadata": {
        "id": "9DonIeGfNtNT",
        "colab_type": "code",
        "colab": {}
      },
      "source": [
        ""
      ],
      "execution_count": null,
      "outputs": []
    },
    {
      "cell_type": "markdown",
      "metadata": {
        "id": "LEd9skirQv-S",
        "colab_type": "text"
      },
      "source": [
        "# Evaluate \n",
        "---\n",
        "## Precision \n",
        "\n",
        "\n",
        "It is the number of True Positive divided by the number of positive results predicted by the classifier.\n",
        "\n",
        "Precision = TP / TP+FP\n",
        "\n",
        "![](https://raw.githubusercontent.com/ademaldemir/machine-learning-patient-records-on-db2/master/images/precision.png)\n",
        "\n",
        "## Recall/ Sensitivity \n",
        "It is the number of True Positives divided by the number of all relevant samples (all samples that should have been identified as positive).\n",
        "\n",
        "Recall = TP / TP + FN\n",
        "\n",
        "![](https://raw.githubusercontent.com/ademaldemir/machine-learning-patient-records-on-db2/master/images/recall.png)\n",
        "\n",
        "* To minimising False Negatives, we would want our Recall to be as close to 100%\n",
        "* To minimising False Positives, we would want our Precision to be as close to 100%\n",
        "\n",
        "## F1 Score \n",
        "F1 Score is the Harmonic Mean between precision and recall.\n",
        "\n",
        "It tells how precise the classifier is (how many instances it classifies correctly), as well as how robust it is (it does not miss a significant number of instances).\n",
        "\n",
        "The greater the F1 Score, the better is the performance of our model.\n",
        "Range [0, 1].\n",
        "\n",
        "![](https://raw.githubusercontent.com/ademaldemir/machine-learning-patient-records-on-db2/master/images/f1-score.png)"
      ]
    },
    {
      "cell_type": "markdown",
      "metadata": {
        "id": "mnqxFCGFSbi6",
        "colab_type": "text"
      },
      "source": [
        "# Publish and deploy the model"
      ]
    },
    {
      "cell_type": "code",
      "metadata": {
        "id": "8O29KKk8QyGS",
        "colab_type": "code",
        "colab": {}
      },
      "source": [
        "!rm -rf $PIP_BUILD/watson-machine-learning-client\n",
        "!pip install watson-machine-learning-client --upgrade"
      ],
      "execution_count": 1,
      "outputs": []
    },
    {
      "cell_type": "markdown",
      "metadata": {
        "id": "sjrAtz-YSf-v",
        "colab_type": "text"
      },
      "source": [
        "## Enter your Watson Machine Learning service instance credentials here\n"
      ]
    },
    {
      "cell_type": "code",
      "metadata": {
        "id": "5CzH059gShAY",
        "colab_type": "code",
        "colab": {}
      },
      "source": [
        "# Replace the credentials that you got from Watson Machine Learning service\n",
        "from watson_machine_learning_client import WatsonMachineLearningAPIClient\n",
        "wml_credentials = {    \n",
        "    \"apikey\": \".....\",\n",
        "  \"instance_id\": \".....\",\n",
        "  \"url\": \"....\"\n",
        "}\n",
        "client = WatsonMachineLearningAPIClient(wml_credentials)"
      ],
      "execution_count": null,
      "outputs": []
    },
    {
      "cell_type": "code",
      "metadata": {
        "id": "GNEHkw7ASpZF",
        "colab_type": "code",
        "colab": {}
      },
      "source": [
        "runtimes_meta = {\n",
        "    client.runtimes.ConfigurationMetaNames.NAME: \"diabetes_records\", \n",
        "    client.runtimes.ConfigurationMetaNames.DESCRIPTION: \"Diabetes prediction using synthesized health records\", \n",
        "    client.runtimes.ConfigurationMetaNames.PLATFORM: { \"name\": \"python\", \"version\": \"3.6\" }, \n",
        "}\n",
        "runtime_details = client.runtimes.store(runtimes_meta)\n",
        "runtime_details\n",
        "runtime_url = client.runtimes.get_url(runtime_details)\n",
        "runtime_uid = client.runtimes.get_uid(runtime_details)\n",
        "print(\"Runtimes URL: \" + runtime_url)\n",
        "print(\"Runtimes UID: \" + runtime_uid)"
      ],
      "execution_count": null,
      "outputs": []
    },
    {
      "cell_type": "code",
      "metadata": {
        "id": "UDqvF4L5SrLj",
        "colab_type": "code",
        "colab": {}
      },
      "source": [
        "model_props = {client.repository.ModelMetaNames.NAME: \"Diabetes prediction using synthesized health records\",\n",
        "               client.repository.ModelMetaNames.RUNTIME_UID: runtime_uid\n",
        "              }\n",
        "published_model = client.repository.store_model(model=model, meta_props=model_props)\n",
        "import json\n",
        "published_model_uid = client.repository.get_model_uid(published_model)\n",
        "model_details = client.repository.get_details(published_model_uid)\n",
        "print(json.dumps(model_details, indent=2))"
      ],
      "execution_count": null,
      "outputs": []
    },
    {
      "cell_type": "code",
      "metadata": {
        "id": "A8hXfaCZStEM",
        "colab_type": "code",
        "colab": {}
      },
      "source": [
        "created_deployment = client.deployments.create(published_model_uid, name=\"diabetes_records\")"
      ],
      "execution_count": null,
      "outputs": []
    },
    {
      "cell_type": "markdown",
      "metadata": {
        "id": "XF8OAi6gSv3j",
        "colab_type": "text"
      },
      "source": [
        "## Publish the model to the repository using the client\n",
        "## Deploy the model as a web service"
      ]
    },
    {
      "cell_type": "code",
      "metadata": {
        "id": "YRC_jOzcSzuK",
        "colab_type": "code",
        "colab": {}
      },
      "source": [
        "scoring_endpoint = client.deployments.get_scoring_url(created_deployment)\n",
        "print(scoring_endpoint)"
      ],
      "execution_count": null,
      "outputs": []
    },
    {
      "cell_type": "markdown",
      "metadata": {
        "id": "UAr43LutS2p3",
        "colab_type": "text"
      },
      "source": [
        "## Call the web service to make a prediction from some sample data"
      ]
    },
    {
      "cell_type": "code",
      "metadata": {
        "id": "8iUbfmO4S3JE",
        "colab_type": "code",
        "colab": {}
      },
      "source": [
        "scoring_payload = {\n",
        "    \"fields\": ['Pregnancies', 'Glucose', 'BloodPressure', 'SkinThickness', 'Insulin',\n",
        "       'BMI', 'DiabetesPedigreeFunction', 'Age'],\n",
        "    \"values\": [[    ]]\n",
        "}\n",
        "\n",
        "\n",
        "score = client.deployments.score(scoring_endpoint, scoring_payload)\n",
        "\n",
        "print(str(score))"
      ],
      "execution_count": null,
      "outputs": []
    }
  ]
}